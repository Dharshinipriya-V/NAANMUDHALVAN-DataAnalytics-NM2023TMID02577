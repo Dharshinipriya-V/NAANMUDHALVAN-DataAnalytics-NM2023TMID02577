{
 "cells": [
  {
   "cell_type": "markdown",
   "id": "c62f990c",
   "metadata": {},
   "source": [
    "# AI ML Assingment 1 (Basic Python)"
   ]
  },
  {
   "cell_type": "markdown",
   "id": "6d9b5d76",
   "metadata": {},
   "source": [
    "# Task - 1"
   ]
  },
  {
   "cell_type": "markdown",
   "id": "8531a0cc",
   "metadata": {},
   "source": [
    "### Create two list and join those two list"
   ]
  },
  {
   "cell_type": "code",
   "execution_count": 6,
   "id": "88ecbad1",
   "metadata": {},
   "outputs": [
    {
     "name": "stdout",
     "output_type": "stream",
     "text": [
      "[11, 12, 13, 14, 15, 16, 17, 18, 19, 20]\n"
     ]
    }
   ],
   "source": [
    "list_1 = [11,12,13,14,15]\n",
    "list_2 = [16,17,18,19,20]\n",
    "\n",
    "#joined list is\n",
    "\n",
    "joined_list = list_1 + list_2\n",
    "print(joined_list)"
   ]
  },
  {
   "cell_type": "markdown",
   "id": "ffd1a6b6",
   "metadata": {},
   "source": [
    "# Task - 2"
   ]
  },
  {
   "cell_type": "markdown",
   "id": "39055e9b",
   "metadata": {},
   "source": [
    "### With if statement find the even number"
   ]
  },
  {
   "cell_type": "code",
   "execution_count": 6,
   "id": "6bb81b8e",
   "metadata": {},
   "outputs": [
    {
     "name": "stdout",
     "output_type": "stream",
     "text": [
      "Even numbers are: 2 4 6 8 10 "
     ]
    }
   ],
   "source": [
    "#lets find the even numbers from the list\n",
    "\n",
    "print(\"Even numbers are: \", end=\"\");\n",
    "for i in range(0,len(joined_list)):\n",
    "    if(joined_list[i]%2==0):\n",
    "        print(joined_list[i],end=\" \")"
   ]
  },
  {
   "cell_type": "markdown",
   "id": "f889ad67",
   "metadata": {},
   "source": [
    "# Task - 3\n"
   ]
  },
  {
   "cell_type": "markdown",
   "id": "d7eb97e2",
   "metadata": {},
   "source": [
    "###  Create a dictionary with 3 keys and 2 values for each key"
   ]
  },
  {
   "cell_type": "code",
   "execution_count": 9,
   "id": "60f36358",
   "metadata": {},
   "outputs": [
    {
     "name": "stdout",
     "output_type": "stream",
     "text": [
      "{'key1': ['apple', 'orange'], 'key2': ['cherry', 'grape'], 'key3': ['guava', 'mango']}\n"
     ]
    }
   ],
   "source": [
    "my_dict = {\n",
    "    'key1':['apple','orange'],\n",
    "    'key2':['cherry','grape'],\n",
    "    'key3':['guava','mango'],\n",
    "}\n",
    "\n",
    "print(my_dict)"
   ]
  },
  {
   "cell_type": "markdown",
   "id": "1bfadb95",
   "metadata": {},
   "source": [
    "\n",
    "# Task - 4"
   ]
  },
  {
   "cell_type": "markdown",
   "id": "60cbd33b",
   "metadata": {},
   "source": [
    "### Create a function with if statement which is used to find the odd numbers"
   ]
  },
  {
   "cell_type": "code",
   "execution_count": 8,
   "id": "04556c4d",
   "metadata": {},
   "outputs": [
    {
     "name": "stdout",
     "output_type": "stream",
     "text": [
      "Odd numbers are: 11 13 15 17 19 "
     ]
    }
   ],
   "source": [
    "#function to find odd numbers\n",
    "\n",
    "def odd_num(list_num):\n",
    "    print(\"Odd numbers are: \", end=\"\")\n",
    "    for i in list_num:\n",
    "        if(i%2!=0):\n",
    "            print(i,end=\" \")\n",
    "            \n",
    "#function call\n",
    "odd_num(joined_list)\n",
    "            "
   ]
  },
  {
   "cell_type": "markdown",
   "id": "a4378e94",
   "metadata": {},
   "source": [
    "# Task - 5 "
   ]
  },
  {
   "cell_type": "markdown",
   "id": "94e401e8",
   "metadata": {},
   "source": [
    "### Wrtie a python function to sum all the numbers in a list"
   ]
  },
  {
   "cell_type": "code",
   "execution_count": 5,
   "id": "02cf14f6",
   "metadata": {},
   "outputs": [
    {
     "name": "stdout",
     "output_type": "stream",
     "text": [
      "Output: 32\n"
     ]
    }
   ],
   "source": [
    "#function to sum all the numbers in the list\n",
    "\n",
    "def sum_of_numbers(fun_list):\n",
    "    Sum = 0\n",
    "    for num in fun_list:\n",
    "        Sum = Sum + num\n",
    "    print(\"Output:\",Sum)\n",
    "    \n",
    "#calling function\n",
    "sample_list = [8,9,3,5,7]\n",
    "sum_of_numbers(sample_list)"
   ]
  },
  {
   "cell_type": "code",
   "execution_count": null,
   "id": "36707c06",
   "metadata": {},
   "outputs": [],
   "source": []
  }
 ],
 "metadata": {
  "kernelspec": {
   "display_name": "Python 3 (ipykernel)",
   "language": "python",
   "name": "python3"
  },
  "language_info": {
   "codemirror_mode": {
    "name": "ipython",
    "version": 3
   },
   "file_extension": ".py",
   "mimetype": "text/x-python",
   "name": "python",
   "nbconvert_exporter": "python",
   "pygments_lexer": "ipython3",
   "version": "3.11.2"
  }
 },
 "nbformat": 4,
 "nbformat_minor": 5
}
